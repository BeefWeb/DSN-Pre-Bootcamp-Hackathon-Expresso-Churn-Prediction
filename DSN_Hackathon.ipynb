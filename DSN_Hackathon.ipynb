{
  "nbformat": 4,
  "nbformat_minor": 0,
  "metadata": {
    "colab": {
      "name": "DSN Hackathon.ipynb",
      "provenance": [],
      "mount_file_id": "14-QDR3eykargNl5fgYfKrkCNvC8xo1MB",
      "authorship_tag": "ABX9TyPRcM1KT5IS11x8K9Ycgfnk"
    },
    "kernelspec": {
      "name": "python3",
      "display_name": "Python 3"
    },
    "accelerator": "GPU"
  },
  "cells": [
    {
      "cell_type": "code",
      "metadata": {
        "id": "E60sxrBQdqfk"
      },
      "source": [
        "import pandas as pd\n",
        "import numpy as np\n",
        "import seaborn as sns\n",
        "import matplotlib.pyplot as plt\n",
        "import missingno as mno\n",
        "%matplotlib inline\n",
        " \n",
        "import warnings\n",
        "warnings.filterwarnings('ignore')"
      ],
      "execution_count": null,
      "outputs": []
    },
    {
      "cell_type": "code",
      "metadata": {
        "id": "iIx5PGYJflO6"
      },
      "source": [
        "train = pd.read_csv(\"drive/My Drive/DSN Hackathon/Train.csv\")\n",
        "test  = pd.read_csv(\"drive/My Drive/DSN Hackathon/Test.csv\")\n",
        "sub = pd.read_csv(\"drive/My Drive/DSN Hackathon/SampleSubmission.csv\")"
      ],
      "execution_count": null,
      "outputs": []
    },
    {
      "cell_type": "code",
      "metadata": {
        "id": "VALda_3Cf90Q",
        "colab": {
          "base_uri": "https://localhost:8080/",
          "height": 255
        },
        "outputId": "d2cc8d86-d26f-4918-ec56-aa8d93e98250"
      },
      "source": [
        "train.columns"
      ],
      "execution_count": null,
      "outputs": [
        {
          "output_type": "execute_result",
          "data": {
            "text/plain": [
              "Index(['Applicant_ID', 'form_field1', 'form_field2', 'form_field3',\n",
              "       'form_field4', 'form_field5', 'form_field6', 'form_field7',\n",
              "       'form_field8', 'form_field9', 'form_field10', 'form_field11',\n",
              "       'form_field12', 'form_field13', 'form_field14', 'form_field15',\n",
              "       'form_field16', 'form_field17', 'form_field18', 'form_field19',\n",
              "       'form_field20', 'form_field21', 'form_field22', 'form_field23',\n",
              "       'form_field24', 'form_field25', 'form_field26', 'form_field27',\n",
              "       'form_field28', 'form_field29', 'form_field30', 'form_field31',\n",
              "       'form_field32', 'form_field33', 'form_field34', 'form_field35',\n",
              "       'form_field36', 'form_field37', 'form_field38', 'form_field39',\n",
              "       'form_field40', 'form_field41', 'form_field42', 'form_field43',\n",
              "       'form_field44', 'form_field45', 'form_field46', 'form_field47',\n",
              "       'form_field48', 'form_field49', 'form_field50', 'default_status'],\n",
              "      dtype='object')"
            ]
          },
          "metadata": {
            "tags": []
          },
          "execution_count": 3
        }
      ]
    },
    {
      "cell_type": "code",
      "metadata": {
        "id": "NI8aaCPnuVQP",
        "colab": {
          "base_uri": "https://localhost:8080/",
          "height": 34
        },
        "outputId": "8ebf41df-4a38-43d2-969a-c19f1ca2f881"
      },
      "source": [
        "len(train), len(test)"
      ],
      "execution_count": null,
      "outputs": [
        {
          "output_type": "execute_result",
          "data": {
            "text/plain": [
              "(56000, 24000)"
            ]
          },
          "metadata": {
            "tags": []
          },
          "execution_count": 4
        }
      ]
    },
    {
      "cell_type": "code",
      "metadata": {
        "id": "g1MO96pJuWa-",
        "colab": {
          "base_uri": "https://localhost:8080/",
          "height": 1020
        },
        "outputId": "6aab5708-b9fe-4dde-cfc0-304b838a417a"
      },
      "source": [
        "train.info()"
      ],
      "execution_count": null,
      "outputs": [
        {
          "output_type": "stream",
          "text": [
            "<class 'pandas.core.frame.DataFrame'>\n",
            "RangeIndex: 56000 entries, 0 to 55999\n",
            "Data columns (total 52 columns):\n",
            " #   Column          Non-Null Count  Dtype  \n",
            "---  ------          --------------  -----  \n",
            " 0   Applicant_ID    56000 non-null  object \n",
            " 1   form_field1     53471 non-null  float64\n",
            " 2   form_field2     52156 non-null  float64\n",
            " 3   form_field3     55645 non-null  float64\n",
            " 4   form_field4     55645 non-null  float64\n",
            " 5   form_field5     55645 non-null  float64\n",
            " 6   form_field6     42640 non-null  float64\n",
            " 7   form_field7     50837 non-null  float64\n",
            " 8   form_field8     42640 non-null  float64\n",
            " 9   form_field9     47992 non-null  float64\n",
            " 10  form_field10    55645 non-null  float64\n",
            " 11  form_field11    24579 non-null  float64\n",
            " 12  form_field12    46105 non-null  float64\n",
            " 13  form_field13    50111 non-null  float64\n",
            " 14  form_field14    56000 non-null  int64  \n",
            " 15  form_field15    33525 non-null  float64\n",
            " 16  form_field16    42964 non-null  float64\n",
            " 17  form_field17    44849 non-null  float64\n",
            " 18  form_field18    45598 non-null  float64\n",
            " 19  form_field19    55996 non-null  float64\n",
            " 20  form_field20    55645 non-null  float64\n",
            " 21  form_field21    40146 non-null  float64\n",
            " 22  form_field22    35600 non-null  float64\n",
            " 23  form_field23    27877 non-null  float64\n",
            " 24  form_field24    42703 non-null  float64\n",
            " 25  form_field25    50550 non-null  float64\n",
            " 26  form_field26    48562 non-null  float64\n",
            " 27  form_field27    46701 non-null  float64\n",
            " 28  form_field28    55645 non-null  float64\n",
            " 29  form_field29    55645 non-null  float64\n",
            " 30  form_field30    30491 non-null  float64\n",
            " 31  form_field31    16592 non-null  float64\n",
            " 32  form_field32    50550 non-null  float64\n",
            " 33  form_field33    54744 non-null  float64\n",
            " 34  form_field34    55645 non-null  float64\n",
            " 35  form_field35    32852 non-null  float64\n",
            " 36  form_field36    54005 non-null  float64\n",
            " 37  form_field37    50550 non-null  float64\n",
            " 38  form_field38    55645 non-null  float64\n",
            " 39  form_field39    51789 non-null  float64\n",
            " 40  form_field40    12271 non-null  float64\n",
            " 41  form_field41    17771 non-null  float64\n",
            " 42  form_field42    54677 non-null  float64\n",
            " 43  form_field43    55432 non-null  float64\n",
            " 44  form_field44    50617 non-null  float64\n",
            " 45  form_field45    24683 non-null  float64\n",
            " 46  form_field46    40096 non-null  float64\n",
            " 47  form_field47    56000 non-null  object \n",
            " 48  form_field48    35111 non-null  float64\n",
            " 49  form_field49    55645 non-null  float64\n",
            " 50  form_field50    44944 non-null  float64\n",
            " 51  default_status  56000 non-null  object \n",
            "dtypes: float64(48), int64(1), object(3)\n",
            "memory usage: 22.2+ MB\n"
          ],
          "name": "stdout"
        }
      ]
    },
    {
      "cell_type": "code",
      "metadata": {
        "id": "PvZ0TyLwuWqH",
        "colab": {
          "base_uri": "https://localhost:8080/",
          "height": 280
        },
        "outputId": "114a2fd3-a086-455f-96fb-f6e7c9668413"
      },
      "source": [
        "sns.boxplot('default_status', 'form_field1', data=train);"
      ],
      "execution_count": null,
      "outputs": [
        {
          "output_type": "display_data",
          "data": {
            "image/png": "[encoded data removed]",
            "text/plain": [
              "<Figure size 432x288 with 1 Axes>"
            ]
          },
          "metadata": {
            "tags": [],
            "needs_background": "light"
          }
        }
      ]
    },
    {
      "cell_type": "code",
      "metadata": {
        "id": "8x57CgbKwUut",
        "colab": {
          "base_uri": "https://localhost:8080/",
          "height": 68
        },
        "outputId": "a43b5233-3367-4ad0-f618-529e2db4469b"
      },
      "source": [
        "train['form_field47'].value_counts()"
      ],
      "execution_count": null,
      "outputs": [
        {
          "output_type": "execute_result",
          "data": {
            "text/plain": [
              "charge     36373\n",
              "lending    19627\n",
              "Name: form_field47, dtype: int64"
            ]
          },
          "metadata": {
            "tags": []
          },
          "execution_count": 7
        }
      ]
    },
    {
      "cell_type": "code",
      "metadata": {
        "id": "dcfa-_9MuW7Z",
        "colab": {
          "base_uri": "https://localhost:8080/",
          "height": 280
        },
        "outputId": "54729ee9-63df-4a12-d057-a5a86e8a93c1"
      },
      "source": [
        "sns.countplot('form_field47',data=train,hue='default_status');"
      ],
      "execution_count": null,
      "outputs": [
        {
          "output_type": "display_data",
          "data": {
            "image/png": "[encoded data removed]",
            "text/plain": [
              "<Figure size 432x288 with 1 Axes>"
            ]
          },
          "metadata": {
            "tags": [],
            "needs_background": "light"
          }
        }
      ]
    },
    {
      "cell_type": "code",
      "metadata": {
        "id": "6EMT-gcbuXMR",
        "colab": {
          "base_uri": "https://localhost:8080/",
          "height": 280
        },
        "outputId": "34d17464-bc20-4e58-99d1-b8049e259f4f"
      },
      "source": [
        "sns.countplot('default_status',data=train);"
      ],
      "execution_count": null,
      "outputs": [
        {
          "output_type": "display_data",
          "data": {
            "image/png": "[encoded data removed]",
            "text/plain": [
              "<Figure size 432x288 with 1 Axes>"
            ]
          },
          "metadata": {
            "tags": [],
            "needs_background": "light"
          }
        }
      ]
    },
    {
      "cell_type": "code",
      "metadata": {
        "id": "W_f4Yds_uXr8",
        "colab": {
          "base_uri": "https://localhost:8080/",
          "height": 283
        },
        "outputId": "6e7ca804-a90f-4843-d1ed-66c0dfde2742"
      },
      "source": [
        "sns.violinplot('form_field47','form_field1',data=train);"
      ],
      "execution_count": null,
      "outputs": [
        {
          "output_type": "display_data",
          "data": {
            "image/png": "[encoded data removed]",
            "text/plain": [
              "<Figure size 432x288 with 1 Axes>"
            ]
          },
          "metadata": {
            "tags": [],
            "needs_background": "light"
          }
        }
      ]
    },
    {
      "cell_type": "code",
      "metadata": {
        "id": "CR_DnbHeuX4_",
        "colab": {
          "base_uri": "https://localhost:8080/",
          "height": 321
        },
        "outputId": "af00a0fa-047b-4e17-910c-61f3e0fadd93"
      },
      "source": [
        "fig,ax = plt.subplots(figsize=(20,5),ncols=3,nrows=1)\n",
        "sns.scatterplot('form_field15','form_field17',data=train,ax=ax[0])\n",
        "sns.scatterplot('form_field16','form_field19',data=train,ax=ax[1])\n",
        "sns.scatterplot('form_field13','form_field12',data=train,ax=ax[2]);"
      ],
      "execution_count": null,
      "outputs": [
        {
          "output_type": "display_data",
          "data": {
            "image/png": "[encoded data removed]",
            "text/plain": [
              "<Figure size 1440x360 with 3 Axes>"
            ]
          },
          "metadata": {
            "tags": [],
            "needs_background": "light"
          }
        }
      ]
    },
    {
      "cell_type": "code",
      "metadata": {
        "id": "UzaC8NxluXbK",
        "colab": {
          "base_uri": "https://localhost:8080/",
          "height": 305
        },
        "outputId": "2edbe143-c5da-4b77-d1ae-808ee8ee877c"
      },
      "source": [
        "fig,ax = plt.subplots(figsize=(20,5),ncols=3,nrows=1)\n",
        "sns.scatterplot('form_field21','form_field22',data=train,ax=ax[0])\n",
        "sns.scatterplot('form_field24','form_field25',data=train,ax=ax[1])\n",
        "sns.scatterplot('form_field27','form_field26',data=train,ax=ax[2]);"
      ],
      "execution_count": null,
      "outputs": [
        {
          "output_type": "display_data",
          "data": {
            "image/png": "[encoded data removed]",
            "text/plain": [
              "<Figure size 1440x360 with 3 Axes>"
            ]
          },
          "metadata": {
            "tags": [],
            "needs_background": "light"
          }
        }
      ]
    },
    {
      "cell_type": "code",
      "metadata": {
        "id": "dbvqCwA8uXDG",
        "colab": {
          "base_uri": "https://localhost:8080/",
          "height": 317
        },
        "outputId": "b6b89e45-bf02-4105-f459-aa9653c66399"
      },
      "source": [
        "train.describe()"
      ],
      "execution_count": null,
      "outputs": [
        {
          "output_type": "execute_result",
          "data": {
            "text/html": [
              "<div>\n",
              "<style scoped>\n",
              "    .dataframe tbody tr th:only-of-type {\n",
              "        vertical-align: middle;\n",
              "    }\n",
              "\n",
              "    .dataframe tbody tr th {\n",
              "        vertical-align: top;\n",
              "    }\n",
              "\n",
              "    .dataframe thead th {\n",
              "        text-align: right;\n",
              "    }\n",
              "</style>\n",
              "<table border=\"1\" class=\"dataframe\">\n",
              "  <thead>\n",
              "    <tr style=\"text-align: right;\">\n",
              "      <th></th>\n",
              "      <th>form_field1</th>\n",
              "      <th>form_field2</th>\n",
              "      <th>form_field3</th>\n",
              "      <th>form_field4</th>\n",
              "      <th>form_field5</th>\n",
              "      <th>form_field6</th>\n",
              "      <th>form_field7</th>\n",
              "      <th>form_field8</th>\n",
              "      <th>form_field9</th>\n",
              "      <th>form_field10</th>\n",
              "      <th>form_field11</th>\n",
              "      <th>form_field12</th>\n",
              "      <th>form_field13</th>\n",
              "      <th>form_field14</th>\n",
              "      <th>form_field15</th>\n",
              "      <th>form_field16</th>\n",
              "      <th>form_field17</th>\n",
              "      <th>form_field18</th>\n",
              "      <th>form_field19</th>\n",
              "      <th>form_field20</th>\n",
              "      <th>form_field21</th>\n",
              "      <th>form_field22</th>\n",
              "      <th>form_field23</th>\n",
              "      <th>form_field24</th>\n",
              "      <th>form_field25</th>\n",
              "      <th>form_field26</th>\n",
              "      <th>form_field27</th>\n",
              "      <th>form_field28</th>\n",
              "      <th>form_field29</th>\n",
              "      <th>form_field30</th>\n",
              "      <th>form_field31</th>\n",
              "      <th>form_field32</th>\n",
              "      <th>form_field33</th>\n",
              "      <th>form_field34</th>\n",
              "      <th>form_field35</th>\n",
              "      <th>form_field36</th>\n",
              "      <th>form_field37</th>\n",
              "      <th>form_field38</th>\n",
              "      <th>form_field39</th>\n",
              "      <th>form_field40</th>\n",
              "      <th>form_field41</th>\n",
              "      <th>form_field42</th>\n",
              "      <th>form_field43</th>\n",
              "      <th>form_field44</th>\n",
              "      <th>form_field45</th>\n",
              "      <th>form_field46</th>\n",
              "      <th>form_field48</th>\n",
              "      <th>form_field49</th>\n",
              "      <th>form_field50</th>\n",
              "    </tr>\n",
              "  </thead>\n",
              "  <tbody>\n",
              "    <tr>\n",
              "      <th>count</th>\n",
              "      <td>53471.000000</td>\n",
              "      <td>52156.000000</td>\n",
              "      <td>55645.000000</td>\n",
              "      <td>55645.000000</td>\n",
              "      <td>55645.000000</td>\n",
              "      <td>4.264000e+04</td>\n",
              "      <td>5.083700e+04</td>\n",
              "      <td>4.264000e+04</td>\n",
              "      <td>4.799200e+04</td>\n",
              "      <td>5.564500e+04</td>\n",
              "      <td>2.457900e+04</td>\n",
              "      <td>4.610500e+04</td>\n",
              "      <td>5.011100e+04</td>\n",
              "      <td>5.600000e+04</td>\n",
              "      <td>3.352500e+04</td>\n",
              "      <td>42964.000000</td>\n",
              "      <td>44849.000000</td>\n",
              "      <td>45598.000000</td>\n",
              "      <td>55996.000000</td>\n",
              "      <td>55645.000000</td>\n",
              "      <td>40146.000000</td>\n",
              "      <td>35600.000000</td>\n",
              "      <td>27877.000000</td>\n",
              "      <td>42703.000000</td>\n",
              "      <td>50550.000000</td>\n",
              "      <td>48562.000000</td>\n",
              "      <td>46701.000000</td>\n",
              "      <td>55645.000000</td>\n",
              "      <td>55645.000000</td>\n",
              "      <td>30491.000000</td>\n",
              "      <td>16592.000000</td>\n",
              "      <td>50550.000000</td>\n",
              "      <td>54744.000000</td>\n",
              "      <td>55645.000000</td>\n",
              "      <td>32852.000000</td>\n",
              "      <td>54005.000000</td>\n",
              "      <td>50550.000000</td>\n",
              "      <td>55645.000000</td>\n",
              "      <td>51789.000000</td>\n",
              "      <td>12271.000000</td>\n",
              "      <td>17771.000000</td>\n",
              "      <td>54677.000000</td>\n",
              "      <td>55432.000000</td>\n",
              "      <td>50617.000000</td>\n",
              "      <td>24683.000000</td>\n",
              "      <td>40096.000000</td>\n",
              "      <td>3.511100e+04</td>\n",
              "      <td>55645.000000</td>\n",
              "      <td>4.494400e+04</td>\n",
              "    </tr>\n",
              "    <tr>\n",
              "      <th>mean</th>\n",
              "      <td>3491.795665</td>\n",
              "      <td>0.550737</td>\n",
              "      <td>1.052225</td>\n",
              "      <td>0.851979</td>\n",
              "      <td>1.956317</td>\n",
              "      <td>6.244479e+05</td>\n",
              "      <td>6.865210e+06</td>\n",
              "      <td>2.626690e+06</td>\n",
              "      <td>1.316002e+07</td>\n",
              "      <td>1.185585e+07</td>\n",
              "      <td>2.054715e+06</td>\n",
              "      <td>2.771113e+06</td>\n",
              "      <td>6.009944e+06</td>\n",
              "      <td>6.914875e+07</td>\n",
              "      <td>1.145041e+08</td>\n",
              "      <td>0.230425</td>\n",
              "      <td>0.265692</td>\n",
              "      <td>0.271832</td>\n",
              "      <td>0.948800</td>\n",
              "      <td>1.031593</td>\n",
              "      <td>86.500380</td>\n",
              "      <td>6628.316381</td>\n",
              "      <td>6452.875072</td>\n",
              "      <td>104.558516</td>\n",
              "      <td>2624.555935</td>\n",
              "      <td>10106.554899</td>\n",
              "      <td>6190.516948</td>\n",
              "      <td>17274.315141</td>\n",
              "      <td>16518.540695</td>\n",
              "      <td>5213.246663</td>\n",
              "      <td>10857.565755</td>\n",
              "      <td>938.345321</td>\n",
              "      <td>13.926583</td>\n",
              "      <td>0.230245</td>\n",
              "      <td>0.199866</td>\n",
              "      <td>12.859069</td>\n",
              "      <td>8.480435</td>\n",
              "      <td>8.601420</td>\n",
              "      <td>0.090849</td>\n",
              "      <td>147.797977</td>\n",
              "      <td>108.117363</td>\n",
              "      <td>0.368215</td>\n",
              "      <td>6.634511</td>\n",
              "      <td>0.563377</td>\n",
              "      <td>0.072520</td>\n",
              "      <td>0.095371</td>\n",
              "      <td>3.052449e+05</td>\n",
              "      <td>1.049061</td>\n",
              "      <td>6.005862e+05</td>\n",
              "    </tr>\n",
              "    <tr>\n",
              "      <th>std</th>\n",
              "      <td>188.462426</td>\n",
              "      <td>0.820979</td>\n",
              "      <td>2.147768</td>\n",
              "      <td>3.157692</td>\n",
              "      <td>10.512396</td>\n",
              "      <td>1.433422e+06</td>\n",
              "      <td>1.912729e+07</td>\n",
              "      <td>3.927355e+06</td>\n",
              "      <td>1.977963e+07</td>\n",
              "      <td>2.669459e+07</td>\n",
              "      <td>4.912980e+06</td>\n",
              "      <td>4.544838e+06</td>\n",
              "      <td>2.335893e+07</td>\n",
              "      <td>2.713995e+09</td>\n",
              "      <td>1.153842e+08</td>\n",
              "      <td>0.621833</td>\n",
              "      <td>0.720198</td>\n",
              "      <td>0.725434</td>\n",
              "      <td>1.736454</td>\n",
              "      <td>1.785122</td>\n",
              "      <td>53.445528</td>\n",
              "      <td>5661.059297</td>\n",
              "      <td>5739.968774</td>\n",
              "      <td>436.670719</td>\n",
              "      <td>1964.226548</td>\n",
              "      <td>8796.472481</td>\n",
              "      <td>5390.915344</td>\n",
              "      <td>26930.742020</td>\n",
              "      <td>9666.183962</td>\n",
              "      <td>3124.491488</td>\n",
              "      <td>6049.678489</td>\n",
              "      <td>1044.597044</td>\n",
              "      <td>15.208396</td>\n",
              "      <td>0.683063</td>\n",
              "      <td>0.574002</td>\n",
              "      <td>10.621984</td>\n",
              "      <td>9.328810</td>\n",
              "      <td>7.969215</td>\n",
              "      <td>0.423802</td>\n",
              "      <td>45.085889</td>\n",
              "      <td>36.765769</td>\n",
              "      <td>0.412858</td>\n",
              "      <td>6.378946</td>\n",
              "      <td>0.196973</td>\n",
              "      <td>0.291146</td>\n",
              "      <td>0.335210</td>\n",
              "      <td>1.647757e+06</td>\n",
              "      <td>1.806160</td>\n",
              "      <td>5.842405e+06</td>\n",
              "    </tr>\n",
              "    <tr>\n",
              "      <th>min</th>\n",
              "      <td>2990.000000</td>\n",
              "      <td>0.000000</td>\n",
              "      <td>0.000000</td>\n",
              "      <td>0.000000</td>\n",
              "      <td>0.000000</td>\n",
              "      <td>0.000000e+00</td>\n",
              "      <td>0.000000e+00</td>\n",
              "      <td>0.000000e+00</td>\n",
              "      <td>0.000000e+00</td>\n",
              "      <td>0.000000e+00</td>\n",
              "      <td>0.000000e+00</td>\n",
              "      <td>0.000000e+00</td>\n",
              "      <td>0.000000e+00</td>\n",
              "      <td>0.000000e+00</td>\n",
              "      <td>5.395430e+05</td>\n",
              "      <td>0.000000</td>\n",
              "      <td>0.000000</td>\n",
              "      <td>0.000000</td>\n",
              "      <td>0.000000</td>\n",
              "      <td>0.000000</td>\n",
              "      <td>0.255000</td>\n",
              "      <td>0.000000</td>\n",
              "      <td>0.000000</td>\n",
              "      <td>0.000000</td>\n",
              "      <td>0.000000</td>\n",
              "      <td>0.000000</td>\n",
              "      <td>0.000000</td>\n",
              "      <td>0.000000</td>\n",
              "      <td>0.000000</td>\n",
              "      <td>0.000000</td>\n",
              "      <td>0.000000</td>\n",
              "      <td>0.000000</td>\n",
              "      <td>0.166600</td>\n",
              "      <td>0.000000</td>\n",
              "      <td>0.000000</td>\n",
              "      <td>2.000000</td>\n",
              "      <td>0.000000</td>\n",
              "      <td>0.000000</td>\n",
              "      <td>0.000000</td>\n",
              "      <td>0.021000</td>\n",
              "      <td>0.000000</td>\n",
              "      <td>0.000000</td>\n",
              "      <td>0.000000</td>\n",
              "      <td>0.048528</td>\n",
              "      <td>0.000000</td>\n",
              "      <td>0.000000</td>\n",
              "      <td>0.000000e+00</td>\n",
              "      <td>0.000000</td>\n",
              "      <td>0.000000e+00</td>\n",
              "    </tr>\n",
              "    <tr>\n",
              "      <th>25%</th>\n",
              "      <td>3358.000000</td>\n",
              "      <td>0.070788</td>\n",
              "      <td>0.000000</td>\n",
              "      <td>0.000000</td>\n",
              "      <td>0.000000</td>\n",
              "      <td>1.400400e+04</td>\n",
              "      <td>6.869740e+05</td>\n",
              "      <td>1.929440e+05</td>\n",
              "      <td>1.368502e+06</td>\n",
              "      <td>4.500730e+05</td>\n",
              "      <td>2.172565e+05</td>\n",
              "      <td>2.758010e+05</td>\n",
              "      <td>1.921660e+05</td>\n",
              "      <td>1.657646e+07</td>\n",
              "      <td>5.007636e+07</td>\n",
              "      <td>0.000000</td>\n",
              "      <td>0.000000</td>\n",
              "      <td>0.000000</td>\n",
              "      <td>0.000000</td>\n",
              "      <td>0.000000</td>\n",
              "      <td>40.305000</td>\n",
              "      <td>1068.667500</td>\n",
              "      <td>797.145000</td>\n",
              "      <td>14.865000</td>\n",
              "      <td>1231.500000</td>\n",
              "      <td>3375.000000</td>\n",
              "      <td>2068.000000</td>\n",
              "      <td>60.000000</td>\n",
              "      <td>9765.000000</td>\n",
              "      <td>2312.000000</td>\n",
              "      <td>6297.000000</td>\n",
              "      <td>194.000000</td>\n",
              "      <td>2.333400</td>\n",
              "      <td>0.000000</td>\n",
              "      <td>0.000000</td>\n",
              "      <td>6.000000</td>\n",
              "      <td>2.000000</td>\n",
              "      <td>4.000000</td>\n",
              "      <td>0.000000</td>\n",
              "      <td>136.191750</td>\n",
              "      <td>87.055500</td>\n",
              "      <td>0.000000</td>\n",
              "      <td>2.020000</td>\n",
              "      <td>0.411672</td>\n",
              "      <td>0.000000</td>\n",
              "      <td>0.000000</td>\n",
              "      <td>7.710079e+01</td>\n",
              "      <td>0.000000</td>\n",
              "      <td>4.560141e-02</td>\n",
              "    </tr>\n",
              "    <tr>\n",
              "      <th>50%</th>\n",
              "      <td>3484.000000</td>\n",
              "      <td>0.267575</td>\n",
              "      <td>0.062000</td>\n",
              "      <td>0.000000</td>\n",
              "      <td>0.000000</td>\n",
              "      <td>1.155330e+05</td>\n",
              "      <td>2.704328e+06</td>\n",
              "      <td>9.639420e+05</td>\n",
              "      <td>5.506295e+06</td>\n",
              "      <td>3.707559e+06</td>\n",
              "      <td>6.986440e+05</td>\n",
              "      <td>1.163110e+06</td>\n",
              "      <td>1.605792e+06</td>\n",
              "      <td>2.814143e+07</td>\n",
              "      <td>8.442428e+07</td>\n",
              "      <td>0.000000</td>\n",
              "      <td>0.000000</td>\n",
              "      <td>0.000000</td>\n",
              "      <td>0.000000</td>\n",
              "      <td>0.000000</td>\n",
              "      <td>89.167500</td>\n",
              "      <td>5976.225000</td>\n",
              "      <td>5548.935000</td>\n",
              "      <td>60.660000</td>\n",
              "      <td>2203.500000</td>\n",
              "      <td>8214.000000</td>\n",
              "      <td>5110.000000</td>\n",
              "      <td>486.000000</td>\n",
              "      <td>15057.000000</td>\n",
              "      <td>5658.000000</td>\n",
              "      <td>10584.000000</td>\n",
              "      <td>598.000000</td>\n",
              "      <td>7.833400</td>\n",
              "      <td>0.000000</td>\n",
              "      <td>0.000000</td>\n",
              "      <td>10.000000</td>\n",
              "      <td>6.000000</td>\n",
              "      <td>6.000000</td>\n",
              "      <td>0.000000</td>\n",
              "      <td>150.000000</td>\n",
              "      <td>118.441500</td>\n",
              "      <td>0.220000</td>\n",
              "      <td>5.050000</td>\n",
              "      <td>0.588648</td>\n",
              "      <td>0.000000</td>\n",
              "      <td>0.000000</td>\n",
              "      <td>3.181243e+02</td>\n",
              "      <td>0.000000</td>\n",
              "      <td>1.703996e-01</td>\n",
              "    </tr>\n",
              "    <tr>\n",
              "      <th>75%</th>\n",
              "      <td>3620.000000</td>\n",
              "      <td>0.719512</td>\n",
              "      <td>1.282000</td>\n",
              "      <td>0.000000</td>\n",
              "      <td>0.000000</td>\n",
              "      <td>5.259280e+05</td>\n",
              "      <td>6.993831e+06</td>\n",
              "      <td>3.751516e+06</td>\n",
              "      <td>1.694552e+07</td>\n",
              "      <td>1.326101e+07</td>\n",
              "      <td>1.964839e+06</td>\n",
              "      <td>3.360182e+06</td>\n",
              "      <td>5.593626e+06</td>\n",
              "      <td>4.818738e+07</td>\n",
              "      <td>1.428735e+08</td>\n",
              "      <td>0.000000</td>\n",
              "      <td>0.000000</td>\n",
              "      <td>0.000000</td>\n",
              "      <td>1.000000</td>\n",
              "      <td>1.000000</td>\n",
              "      <td>129.892500</td>\n",
              "      <td>11354.171250</td>\n",
              "      <td>11280.000000</td>\n",
              "      <td>114.712500</td>\n",
              "      <td>3517.500000</td>\n",
              "      <td>14145.000000</td>\n",
              "      <td>8700.000000</td>\n",
              "      <td>60772.000000</td>\n",
              "      <td>21810.000000</td>\n",
              "      <td>7726.000000</td>\n",
              "      <td>14235.000000</td>\n",
              "      <td>1332.000000</td>\n",
              "      <td>21.166600</td>\n",
              "      <td>0.000000</td>\n",
              "      <td>0.000000</td>\n",
              "      <td>16.000000</td>\n",
              "      <td>12.000000</td>\n",
              "      <td>12.000000</td>\n",
              "      <td>0.000000</td>\n",
              "      <td>167.754000</td>\n",
              "      <td>137.496750</td>\n",
              "      <td>0.628573</td>\n",
              "      <td>10.100000</td>\n",
              "      <td>0.753840</td>\n",
              "      <td>0.000000</td>\n",
              "      <td>0.000000</td>\n",
              "      <td>1.153022e+03</td>\n",
              "      <td>1.181754</td>\n",
              "      <td>4.993370e-01</td>\n",
              "    </tr>\n",
              "    <tr>\n",
              "      <th>max</th>\n",
              "      <td>3900.000000</td>\n",
              "      <td>18.015050</td>\n",
              "      <td>57.371600</td>\n",
              "      <td>91.672200</td>\n",
              "      <td>407.748600</td>\n",
              "      <td>5.313546e+07</td>\n",
              "      <td>2.158794e+09</td>\n",
              "      <td>1.037397e+08</td>\n",
              "      <td>3.200533e+08</td>\n",
              "      <td>2.191361e+09</td>\n",
              "      <td>1.707430e+08</td>\n",
              "      <td>1.240439e+08</td>\n",
              "      <td>2.457824e+09</td>\n",
              "      <td>3.854990e+11</td>\n",
              "      <td>3.456119e+09</td>\n",
              "      <td>11.000000</td>\n",
              "      <td>21.000000</td>\n",
              "      <td>21.000000</td>\n",
              "      <td>28.000000</td>\n",
              "      <td>29.000000</td>\n",
              "      <td>1957.875000</td>\n",
              "      <td>97200.000000</td>\n",
              "      <td>97200.000000</td>\n",
              "      <td>31863.750000</td>\n",
              "      <td>25093.500000</td>\n",
              "      <td>73275.000000</td>\n",
              "      <td>42522.000000</td>\n",
              "      <td>60772.000000</td>\n",
              "      <td>73914.000000</td>\n",
              "      <td>25550.000000</td>\n",
              "      <td>47085.000000</td>\n",
              "      <td>21306.000000</td>\n",
              "      <td>152.000000</td>\n",
              "      <td>21.000000</td>\n",
              "      <td>10.000000</td>\n",
              "      <td>200.000000</td>\n",
              "      <td>106.000000</td>\n",
              "      <td>156.000000</td>\n",
              "      <td>21.000000</td>\n",
              "      <td>645.450000</td>\n",
              "      <td>255.000000</td>\n",
              "      <td>2.200000</td>\n",
              "      <td>91.910000</td>\n",
              "      <td>0.800000</td>\n",
              "      <td>5.000000</td>\n",
              "      <td>5.000000</td>\n",
              "      <td>5.321014e+07</td>\n",
              "      <td>28.000000</td>\n",
              "      <td>2.307571e+08</td>\n",
              "    </tr>\n",
              "  </tbody>\n",
              "</table>\n",
              "</div>"
            ],
            "text/plain": [
              "        form_field1   form_field2  ...  form_field49  form_field50\n",
              "count  53471.000000  52156.000000  ...  55645.000000  4.494400e+04\n",
              "mean    3491.795665      0.550737  ...      1.049061  6.005862e+05\n",
              "std      188.462426      0.820979  ...      1.806160  5.842405e+06\n",
              "min     2990.000000      0.000000  ...      0.000000  0.000000e+00\n",
              "25%     3358.000000      0.070788  ...      0.000000  4.560141e-02\n",
              "50%     3484.000000      0.267575  ...      0.000000  1.703996e-01\n",
              "75%     3620.000000      0.719512  ...      1.181754  4.993370e-01\n",
              "max     3900.000000     18.015050  ...     28.000000  2.307571e+08\n",
              "\n",
              "[8 rows x 49 columns]"
            ]
          },
          "metadata": {
            "tags": []
          },
          "execution_count": 13
        }
      ]
    },
    {
      "cell_type": "code",
      "metadata": {
        "id": "2BjCzhxruWx9",
        "colab": {
          "base_uri": "https://localhost:8080/",
          "height": 918
        },
        "outputId": "a7645071-897a-47a5-ba86-28b8ecb5f23e"
      },
      "source": [
        "train.nunique()"
      ],
      "execution_count": null,
      "outputs": [
        {
          "output_type": "execute_result",
          "data": {
            "text/plain": [
              "Applicant_ID      56000\n",
              "form_field1         449\n",
              "form_field2       20015\n",
              "form_field3       14617\n",
              "form_field4        2927\n",
              "form_field5        2991\n",
              "form_field6        5846\n",
              "form_field7       23199\n",
              "form_field8       12820\n",
              "form_field9       22650\n",
              "form_field10      30942\n",
              "form_field11       9508\n",
              "form_field12      16778\n",
              "form_field13      21960\n",
              "form_field14       1237\n",
              "form_field15      23783\n",
              "form_field16         11\n",
              "form_field17         15\n",
              "form_field18         16\n",
              "form_field19         26\n",
              "form_field20         27\n",
              "form_field21      11101\n",
              "form_field22      23583\n",
              "form_field23      16619\n",
              "form_field24      12571\n",
              "form_field25       5014\n",
              "form_field26        594\n",
              "form_field27        558\n",
              "form_field28         95\n",
              "form_field29        654\n",
              "form_field30        274\n",
              "form_field31        394\n",
              "form_field32       2620\n",
              "form_field33        554\n",
              "form_field34         18\n",
              "form_field35         11\n",
              "form_field36         66\n",
              "form_field37         52\n",
              "form_field38         58\n",
              "form_field39         15\n",
              "form_field40       9848\n",
              "form_field41      14375\n",
              "form_field42        986\n",
              "form_field43         59\n",
              "form_field44      33238\n",
              "form_field45          6\n",
              "form_field46          6\n",
              "form_field47          2\n",
              "form_field48      32115\n",
              "form_field49      13207\n",
              "form_field50      44746\n",
              "default_status        2\n",
              "dtype: int64"
            ]
          },
          "metadata": {
            "tags": []
          },
          "execution_count": 14
        }
      ]
    },
    {
      "cell_type": "code",
      "metadata": {
        "id": "XpL2pKJmuWif",
        "colab": {
          "base_uri": "https://localhost:8080/",
          "height": 280
        },
        "outputId": "0e869c3e-0b3b-4ec0-d514-4e7f5f18a77d"
      },
      "source": [
        "sns.countplot('form_field18',data=train);"
      ],
      "execution_count": null,
      "outputs": [
        {
          "output_type": "display_data",
          "data": {
            "image/png": "[encoded data removed]",
            "text/plain": [
              "<Figure size 432x288 with 1 Axes>"
            ]
          },
          "metadata": {
            "tags": [],
            "needs_background": "light"
          }
        }
      ]
    },
    {
      "cell_type": "code",
      "metadata": {
        "id": "xUhESax5uWRF",
        "colab": {
          "base_uri": "https://localhost:8080/",
          "height": 437
        },
        "outputId": "d374de5e-f553-4fba-e21c-3d2b14f98b33"
      },
      "source": [
        "mno.matrix(train,sparkline=False);"
      ],
      "execution_count": null,
      "outputs": [
        {
          "output_type": "display_data",
          "data": {
            "image/png": "[encoded data removed]",
            "text/plain": [
              "<Figure size 1800x720 with 1 Axes>"
            ]
          },
          "metadata": {
            "tags": [],
            "needs_background": "light"
          }
        }
      ]
    },
    {
      "cell_type": "code",
      "metadata": {
        "id": "ciobTmyg3w0C"
      },
      "source": [
        ""
      ],
      "execution_count": null,
      "outputs": []
    },
    {
      "cell_type": "code",
      "metadata": {
        "id": "OmDWmpmagFHk"
      },
      "source": [
        "\n",
        "targett = {'yes' : 1,\n",
        "             'no' : 0}\n",
        "train['default_status'].replace(targett, inplace = True)\n",
        "\n",
        "train['form_field47'].replace({'charge': 1,'lending': 0},inplace=True)\n",
        "test['form_field47'].replace({'charge': 1,'lending': 0},inplace=True)"
      ],
      "execution_count": null,
      "outputs": []
    },
    {
      "cell_type": "code",
      "metadata": {
        "id": "XuK-DMjEgWpU"
      },
      "source": [
        "\n",
        "\n",
        "train.drop('form_field49', inplace=True, axis=1)\n",
        "test.drop('form_field49', inplace=True, axis=1)\n",
        "train.drop('form_field50', inplace=True, axis=1)\n",
        "test.drop('form_field50', inplace=True, axis=1)\n",
        "\n"
      ],
      "execution_count": null,
      "outputs": []
    },
    {
      "cell_type": "code",
      "metadata": {
        "id": "CNSL89k8gOaM",
        "colab": {
          "base_uri": "https://localhost:8080/",
          "height": 343
        },
        "outputId": "ad152349-6d57-4a91-a801-0d7fbe3d1eb4"
      },
      "source": [
        "pip install catboost"
      ],
      "execution_count": null,
      "outputs": [
        {
          "output_type": "stream",
          "text": [
            "Collecting catboost\n",
            "\u001b[?25l  Downloading https://files.pythonhosted.org/packages/90/86/c3dcb600b4f9e7584ed90ea9d30a717fb5c0111574675f442c3e7bc19535/catboost-0.24.1-cp36-none-manylinux1_x86_64.whl (66.1MB)\n",
            "\u001b[K     |████████████████████████████████| 66.1MB 45kB/s \n",
            "\u001b[?25hRequirement already satisfied: six in /usr/local/lib/python3.6/dist-packages (from catboost) (1.15.0)\n",
            "Requirement already satisfied: plotly in /usr/local/lib/python3.6/dist-packages (from catboost) (4.4.1)\n",
            "Requirement already satisfied: graphviz in /usr/local/lib/python3.6/dist-packages (from catboost) (0.10.1)\n",
            "Requirement already satisfied: numpy>=1.16.0 in /usr/local/lib/python3.6/dist-packages (from catboost) (1.18.5)\n",
            "Requirement already satisfied: scipy in /usr/local/lib/python3.6/dist-packages (from catboost) (1.4.1)\n",
            "Requirement already satisfied: pandas>=0.24.0 in /usr/local/lib/python3.6/dist-packages (from catboost) (1.1.2)\n",
            "Requirement already satisfied: matplotlib in /usr/local/lib/python3.6/dist-packages (from catboost) (3.2.2)\n",
            "Requirement already satisfied: retrying>=1.3.3 in /usr/local/lib/python3.6/dist-packages (from plotly->catboost) (1.3.3)\n",
            "Requirement already satisfied: pytz>=2017.2 in /usr/local/lib/python3.6/dist-packages (from pandas>=0.24.0->catboost) (2018.9)\n",
            "Requirement already satisfied: python-dateutil>=2.7.3 in /usr/local/lib/python3.6/dist-packages (from pandas>=0.24.0->catboost) (2.8.1)\n",
            "Requirement already satisfied: cycler>=0.10 in /usr/local/lib/python3.6/dist-packages (from matplotlib->catboost) (0.10.0)\n",
            "Requirement already satisfied: kiwisolver>=1.0.1 in /usr/local/lib/python3.6/dist-packages (from matplotlib->catboost) (1.2.0)\n",
            "Requirement already satisfied: pyparsing!=2.0.4,!=2.1.2,!=2.1.6,>=2.0.1 in /usr/local/lib/python3.6/dist-packages (from matplotlib->catboost) (2.4.7)\n",
            "Installing collected packages: catboost\n",
            "Successfully installed catboost-0.24.1\n"
          ],
          "name": "stdout"
        }
      ]
    },
    {
      "cell_type": "code",
      "metadata": {
        "id": "srQBeFJbgWqh"
      },
      "source": [
        "from sklearn.metrics import roc_auc_score\n",
        "from catboost import CatBoostClassifier\n",
        "from catboost import CatBoost\n"
      ],
      "execution_count": null,
      "outputs": []
    },
    {
      "cell_type": "code",
      "metadata": {
        "id": "dTjRAfKUgeP3"
      },
      "source": [
        "features = train.select_dtypes(exclude = object).columns.drop(['default_status'])"
      ],
      "execution_count": null,
      "outputs": []
    },
    {
      "cell_type": "code",
      "metadata": {
        "id": "GC3H46mhgma1"
      },
      "source": [
        "for col in features:\n",
        "    train[col].fillna(-999, inplace = True)\n",
        "    test[col].fillna(-999, inplace = True)"
      ],
      "execution_count": null,
      "outputs": []
    },
    {
      "cell_type": "code",
      "metadata": {
        "id": "AKDIYA5fgqis"
      },
      "source": [
        "X = train[features]\n",
        "y = train['default_status']"
      ],
      "execution_count": null,
      "outputs": []
    },
    {
      "cell_type": "code",
      "metadata": {
        "id": "RfGrNmp-gw6G"
      },
      "source": [
        "from sklearn.model_selection import StratifiedKFold"
      ],
      "execution_count": null,
      "outputs": []
    },
    {
      "cell_type": "code",
      "metadata": {
        "id": "0IxdQOtyg1gt"
      },
      "source": [
        "def metric(y, pred):\n",
        "    return roc_auc_score(y, pred, labels=[0, 1])"
      ],
      "execution_count": null,
      "outputs": []
    },
    {
      "cell_type": "code",
      "metadata": {
        "id": "STyKwI1xg6tZ"
      },
      "source": [
        "# Specify number of folds\n",
        "n_skf = 10\n",
        "kf = StratifiedKFold(n_skf)\n",
        "\n",
        "\n",
        "seed = 2020\n",
        "\n",
        "## Manually tweak the hyperparameter, learning rate and n_estimators especially for CatBoost\n",
        "params = {\n",
        "    'n_estimators': 4000,\n",
        "    'learning_rate': 0.01,\n",
        "    'max_depth': 8,\n",
        "    'task_type': 'GPU',\n",
        "    'objective': 'CrossEntropy',\n",
        "      'eval_metric':'AUC',\n",
        "    'random_seed': seed,\n",
        "    'early_stopping_rounds': 200,\n",
        "    'use_best_model': True,\n",
        "}"
      ],
      "execution_count": null,
      "outputs": []
    },
    {
      "cell_type": "code",
      "metadata": {
        "id": "EdBL0LL4kEmZ",
        "colab": {
          "base_uri": "https://localhost:8080/",
          "height": 4760
        },
        "outputId": "72a10228-9dc2-4420-9526-212aedb099cb"
      },
      "source": [
        "#For Catboost\n",
        "score_list = []\n",
        "score = 0\n",
        "test_oofs = []\n",
        "\n",
        "for i, (tr_idx, vr_idx) in enumerate(kf.split(X, y)):\n",
        "    \n",
        "    xtrain, ytrain = X.loc[tr_idx, features], y.loc[tr_idx]\n",
        "    xval, yval = X.loc[vr_idx, features], y.loc[vr_idx]\n",
        "\n",
        "    model = CatBoostClassifier(**params)\n",
        "    model.fit(xtrain, ytrain, eval_set=[(xval,yval)], verbose=100)\n",
        "    \n",
        "    p = model.predict_proba(xval)[:, 1]\n",
        "    sc = metric(yval, p)\n",
        "    score_list.append(sc)\n",
        "    score += sc/n_skf\n",
        "    \n",
        "    pred = model.predict_proba(test[features])[:, 1]\n",
        "    test_oofs.append(pred)\n",
        "\n",
        "    print('Fold {} : {}'.format(i, sc))\n",
        "\n",
        "print()\n",
        "print()\n",
        "print('Avg log : ', score)"
      ],
      "execution_count": null,
      "outputs": [
        {
          "output_type": "stream",
          "text": [
            "0:\tlearn: 0.8070262\ttest: 0.7933607\tbest: 0.7933607 (0)\ttotal: 29.7ms\tremaining: 1m 58s\n",
            "100:\tlearn: 0.8377990\ttest: 0.8200252\tbest: 0.8200607 (99)\ttotal: 2.02s\tremaining: 1m 17s\n",
            "200:\tlearn: 0.8442058\ttest: 0.8237080\tbest: 0.8237080 (200)\ttotal: 3.87s\tremaining: 1m 13s\n",
            "300:\tlearn: 0.8489701\ttest: 0.8259493\tbest: 0.8259493 (300)\ttotal: 5.7s\tremaining: 1m 10s\n",
            "400:\tlearn: 0.8532155\ttest: 0.8270336\tbest: 0.8270336 (400)\ttotal: 7.49s\tremaining: 1m 7s\n",
            "500:\tlearn: 0.8569413\ttest: 0.8282089\tbest: 0.8282151 (499)\ttotal: 9.28s\tremaining: 1m 4s\n",
            "600:\tlearn: 0.8605709\ttest: 0.8290067\tbest: 0.8290067 (600)\ttotal: 11.1s\tremaining: 1m 2s\n",
            "700:\tlearn: 0.8638196\ttest: 0.8296640\tbest: 0.8296640 (700)\ttotal: 12.9s\tremaining: 1m\n",
            "800:\tlearn: 0.8668092\ttest: 0.8301425\tbest: 0.8301425 (800)\ttotal: 14.7s\tremaining: 58.8s\n",
            "900:\tlearn: 0.8697754\ttest: 0.8304842\tbest: 0.8304843 (898)\ttotal: 16.6s\tremaining: 56.9s\n",
            "1000:\tlearn: 0.8727824\ttest: 0.8309290\tbest: 0.8309367 (999)\ttotal: 18.4s\tremaining: 55.1s\n",
            "1100:\tlearn: 0.8757530\ttest: 0.8310640\tbest: 0.8311064 (1054)\ttotal: 20.2s\tremaining: 53.1s\n",
            "1200:\tlearn: 0.8788459\ttest: 0.8314430\tbest: 0.8314481 (1198)\ttotal: 22s\tremaining: 51.3s\n",
            "1300:\tlearn: 0.8819698\ttest: 0.8317465\tbest: 0.8317851 (1293)\ttotal: 23.9s\tremaining: 49.5s\n",
            "1400:\tlearn: 0.8849805\ttest: 0.8320659\tbest: 0.8320759 (1398)\ttotal: 25.7s\tremaining: 47.7s\n",
            "1500:\tlearn: 0.8879067\ttest: 0.8323189\tbest: 0.8323399 (1493)\ttotal: 27.5s\tremaining: 45.9s\n",
            "1600:\tlearn: 0.8908964\ttest: 0.8324880\tbest: 0.8324880 (1600)\ttotal: 29.4s\tremaining: 44s\n",
            "1700:\tlearn: 0.8934641\ttest: 0.8326866\tbest: 0.8326915 (1690)\ttotal: 31.2s\tremaining: 42.1s\n",
            "1800:\tlearn: 0.8962814\ttest: 0.8327851\tbest: 0.8327901 (1779)\ttotal: 33s\tremaining: 40.3s\n",
            "1900:\tlearn: 0.8989323\ttest: 0.8329343\tbest: 0.8329343 (1900)\ttotal: 34.9s\tremaining: 38.5s\n",
            "2000:\tlearn: 0.9014689\ttest: 0.8331802\tbest: 0.8331960 (1995)\ttotal: 36.7s\tremaining: 36.6s\n",
            "2100:\tlearn: 0.9040264\ttest: 0.8332198\tbest: 0.8332439 (2029)\ttotal: 38.4s\tremaining: 34.8s\n",
            "2200:\tlearn: 0.9064188\ttest: 0.8333144\tbest: 0.8333158 (2192)\ttotal: 40.2s\tremaining: 32.9s\n",
            "2300:\tlearn: 0.9086732\ttest: 0.8333593\tbest: 0.8333923 (2293)\ttotal: 42.1s\tremaining: 31.1s\n",
            "2400:\tlearn: 0.9107656\ttest: 0.8335371\tbest: 0.8335373 (2396)\ttotal: 43.9s\tremaining: 29.2s\n",
            "2500:\tlearn: 0.9129812\ttest: 0.8336178\tbest: 0.8336316 (2492)\ttotal: 45.7s\tremaining: 27.4s\n",
            "2600:\tlearn: 0.9151634\ttest: 0.8337641\tbest: 0.8337711 (2598)\ttotal: 47.5s\tremaining: 25.5s\n",
            "2700:\tlearn: 0.9172519\ttest: 0.8337466\tbest: 0.8338194 (2630)\ttotal: 49.3s\tremaining: 23.7s\n",
            "2800:\tlearn: 0.9192328\ttest: 0.8337451\tbest: 0.8338194 (2630)\ttotal: 51.1s\tremaining: 21.9s\n",
            "bestTest = 0.8338194489\n",
            "bestIteration = 2630\n",
            "Shrink model to first 2631 iterations.\n",
            "Fold 0 : 0.833819625147401\n",
            "0:\tlearn: 0.8087053\ttest: 0.8114335\tbest: 0.8114335 (0)\ttotal: 18.9ms\tremaining: 1m 15s\n",
            "100:\tlearn: 0.8358105\ttest: 0.8348228\tbest: 0.8348456 (99)\ttotal: 1.85s\tremaining: 1m 11s\n",
            "200:\tlearn: 0.8424140\ttest: 0.8389294\tbest: 0.8389294 (200)\ttotal: 3.68s\tremaining: 1m 9s\n",
            "300:\tlearn: 0.8476501\ttest: 0.8411850\tbest: 0.8411850 (300)\ttotal: 5.51s\tremaining: 1m 7s\n",
            "400:\tlearn: 0.8517264\ttest: 0.8426841\tbest: 0.8426841 (400)\ttotal: 7.33s\tremaining: 1m 5s\n",
            "500:\tlearn: 0.8557700\ttest: 0.8438702\tbest: 0.8438702 (500)\ttotal: 9.14s\tremaining: 1m 3s\n",
            "600:\tlearn: 0.8593015\ttest: 0.8447433\tbest: 0.8447433 (600)\ttotal: 11s\tremaining: 1m 2s\n",
            "700:\tlearn: 0.8626207\ttest: 0.8454344\tbest: 0.8454344 (700)\ttotal: 12.8s\tremaining: 1m\n",
            "800:\tlearn: 0.8658990\ttest: 0.8460020\tbest: 0.8460108 (799)\ttotal: 14.7s\tremaining: 58.6s\n",
            "900:\tlearn: 0.8689461\ttest: 0.8463986\tbest: 0.8463986 (900)\ttotal: 16.5s\tremaining: 56.8s\n",
            "1000:\tlearn: 0.8718883\ttest: 0.8467658\tbest: 0.8467723 (999)\ttotal: 18.4s\tremaining: 55s\n",
            "1100:\tlearn: 0.8748797\ttest: 0.8469304\tbest: 0.8469449 (1096)\ttotal: 20.2s\tremaining: 53.2s\n",
            "1200:\tlearn: 0.8781815\ttest: 0.8472131\tbest: 0.8472609 (1183)\ttotal: 22.1s\tremaining: 51.4s\n",
            "1300:\tlearn: 0.8814937\ttest: 0.8475379\tbest: 0.8475633 (1297)\ttotal: 23.9s\tremaining: 49.5s\n",
            "1400:\tlearn: 0.8845323\ttest: 0.8478779\tbest: 0.8478944 (1397)\ttotal: 25.7s\tremaining: 47.6s\n",
            "1500:\tlearn: 0.8876628\ttest: 0.8480350\tbest: 0.8480434 (1494)\ttotal: 27.5s\tremaining: 45.7s\n",
            "1600:\tlearn: 0.8905337\ttest: 0.8482837\tbest: 0.8482899 (1599)\ttotal: 29.3s\tremaining: 43.9s\n",
            "1700:\tlearn: 0.8932827\ttest: 0.8483949\tbest: 0.8484513 (1668)\ttotal: 31.1s\tremaining: 42.1s\n",
            "1800:\tlearn: 0.8959671\ttest: 0.8484877\tbest: 0.8485388 (1797)\ttotal: 33s\tremaining: 40.2s\n",
            "1900:\tlearn: 0.8985198\ttest: 0.8485752\tbest: 0.8485752 (1900)\ttotal: 34.8s\tremaining: 38.4s\n",
            "2000:\tlearn: 0.9009373\ttest: 0.8485560\tbest: 0.8486264 (1905)\ttotal: 36.6s\tremaining: 36.5s\n",
            "2100:\tlearn: 0.9034891\ttest: 0.8486142\tbest: 0.8486466 (2075)\ttotal: 38.4s\tremaining: 34.7s\n",
            "2200:\tlearn: 0.9058710\ttest: 0.8487539\tbest: 0.8487539 (2200)\ttotal: 40.2s\tremaining: 32.9s\n",
            "2300:\tlearn: 0.9081498\ttest: 0.8487431\tbest: 0.8487995 (2270)\ttotal: 42.1s\tremaining: 31.1s\n",
            "2400:\tlearn: 0.9103589\ttest: 0.8487718\tbest: 0.8488108 (2355)\ttotal: 43.9s\tremaining: 29.2s\n",
            "2500:\tlearn: 0.9127130\ttest: 0.8487900\tbest: 0.8488218 (2462)\ttotal: 45.7s\tremaining: 27.4s\n",
            "2600:\tlearn: 0.9148013\ttest: 0.8488184\tbest: 0.8488489 (2594)\ttotal: 47.5s\tremaining: 25.6s\n",
            "2700:\tlearn: 0.9168582\ttest: 0.8487978\tbest: 0.8488489 (2594)\ttotal: 49.4s\tremaining: 23.7s\n",
            "bestTest = 0.8488488793\n",
            "bestIteration = 2594\n",
            "Shrink model to first 2595 iterations.\n",
            "Fold 1 : 0.8488488794073914\n",
            "0:\tlearn: 0.8110010\ttest: 0.8039736\tbest: 0.8039736 (0)\ttotal: 18.8ms\tremaining: 1m 15s\n",
            "100:\tlearn: 0.8362493\ttest: 0.8287753\tbest: 0.8287753 (100)\ttotal: 1.85s\tremaining: 1m 11s\n",
            "200:\tlearn: 0.8429121\ttest: 0.8329296\tbest: 0.8329296 (200)\ttotal: 3.69s\tremaining: 1m 9s\n",
            "300:\tlearn: 0.8480602\ttest: 0.8353838\tbest: 0.8353838 (300)\ttotal: 5.52s\tremaining: 1m 7s\n",
            "400:\tlearn: 0.8522046\ttest: 0.8368641\tbest: 0.8368641 (400)\ttotal: 7.33s\tremaining: 1m 5s\n",
            "500:\tlearn: 0.8562373\ttest: 0.8377444\tbest: 0.8377444 (500)\ttotal: 9.15s\tremaining: 1m 3s\n",
            "600:\tlearn: 0.8598204\ttest: 0.8384132\tbest: 0.8384244 (599)\ttotal: 11s\tremaining: 1m 1s\n",
            "700:\tlearn: 0.8632126\ttest: 0.8389947\tbest: 0.8389947 (700)\ttotal: 12.8s\tremaining: 1m\n",
            "800:\tlearn: 0.8666267\ttest: 0.8393494\tbest: 0.8393542 (798)\ttotal: 14.6s\tremaining: 58.3s\n",
            "900:\tlearn: 0.8695556\ttest: 0.8395963\tbest: 0.8396169 (893)\ttotal: 16.4s\tremaining: 56.5s\n",
            "1000:\tlearn: 0.8726725\ttest: 0.8398144\tbest: 0.8398365 (978)\ttotal: 18.2s\tremaining: 54.6s\n",
            "1100:\tlearn: 0.8758020\ttest: 0.8399051\tbest: 0.8399298 (1084)\ttotal: 20.1s\tremaining: 53s\n",
            "1200:\tlearn: 0.8789020\ttest: 0.8399855\tbest: 0.8400084 (1132)\ttotal: 21.9s\tremaining: 51s\n",
            "1300:\tlearn: 0.8819888\ttest: 0.8401000\tbest: 0.8401111 (1296)\ttotal: 23.7s\tremaining: 49.2s\n",
            "1400:\tlearn: 0.8850705\ttest: 0.8403712\tbest: 0.8403712 (1399)\ttotal: 25.5s\tremaining: 47.3s\n",
            "1500:\tlearn: 0.8880602\ttest: 0.8405995\tbest: 0.8406016 (1498)\ttotal: 27.3s\tremaining: 45.5s\n",
            "1600:\tlearn: 0.8909305\ttest: 0.8406454\tbest: 0.8406744 (1514)\ttotal: 29.1s\tremaining: 43.6s\n",
            "1700:\tlearn: 0.8937756\ttest: 0.8406263\tbest: 0.8406759 (1647)\ttotal: 30.9s\tremaining: 41.8s\n",
            "1800:\tlearn: 0.8964533\ttest: 0.8407390\tbest: 0.8407523 (1789)\ttotal: 32.8s\tremaining: 40s\n",
            "1900:\tlearn: 0.8991117\ttest: 0.8407960\tbest: 0.8408308 (1894)\ttotal: 34.6s\tremaining: 38.2s\n",
            "2000:\tlearn: 0.9016106\ttest: 0.8409043\tbest: 0.8409043 (2000)\ttotal: 36.4s\tremaining: 36.4s\n",
            "2100:\tlearn: 0.9041653\ttest: 0.8409672\tbest: 0.8410164 (2061)\ttotal: 38.2s\tremaining: 34.6s\n",
            "2200:\tlearn: 0.9064268\ttest: 0.8410704\tbest: 0.8410982 (2195)\ttotal: 40.1s\tremaining: 32.8s\n",
            "2300:\tlearn: 0.9087811\ttest: 0.8411895\tbest: 0.8412358 (2285)\ttotal: 41.9s\tremaining: 30.9s\n",
            "2400:\tlearn: 0.9109991\ttest: 0.8412347\tbest: 0.8412630 (2364)\ttotal: 43.7s\tremaining: 29.1s\n",
            "2500:\tlearn: 0.9131801\ttest: 0.8413175\tbest: 0.8413510 (2492)\ttotal: 45.6s\tremaining: 27.3s\n",
            "2600:\tlearn: 0.9153447\ttest: 0.8413335\tbest: 0.8413785 (2563)\ttotal: 47.4s\tremaining: 25.5s\n",
            "2700:\tlearn: 0.9174778\ttest: 0.8413129\tbest: 0.8413875 (2626)\ttotal: 49.2s\tremaining: 23.7s\n",
            "2800:\tlearn: 0.9195609\ttest: 0.8411821\tbest: 0.8413875 (2626)\ttotal: 51.1s\tremaining: 21.9s\n",
            "bestTest = 0.8413875401\n",
            "bestIteration = 2626\n",
            "Shrink model to first 2627 iterations.\n",
            "Fold 2 : 0.8413873744191707\n",
            "0:\tlearn: 0.8115520\ttest: 0.7948297\tbest: 0.7948297 (0)\ttotal: 18.7ms\tremaining: 1m 14s\n",
            "100:\tlearn: 0.8372732\ttest: 0.8225584\tbest: 0.8225584 (100)\ttotal: 1.87s\tremaining: 1m 12s\n",
            "200:\tlearn: 0.8434278\ttest: 0.8264468\tbest: 0.8264468 (200)\ttotal: 3.69s\tremaining: 1m 9s\n",
            "300:\tlearn: 0.8486736\ttest: 0.8292455\tbest: 0.8292455 (300)\ttotal: 5.53s\tremaining: 1m 7s\n",
            "400:\tlearn: 0.8529136\ttest: 0.8309239\tbest: 0.8309239 (400)\ttotal: 7.36s\tremaining: 1m 6s\n",
            "500:\tlearn: 0.8569345\ttest: 0.8322424\tbest: 0.8322424 (500)\ttotal: 9.17s\tremaining: 1m 4s\n",
            "600:\tlearn: 0.8605051\ttest: 0.8328642\tbest: 0.8328642 (600)\ttotal: 11s\tremaining: 1m 2s\n",
            "700:\tlearn: 0.8638338\ttest: 0.8334544\tbest: 0.8334785 (694)\ttotal: 12.8s\tremaining: 1m\n",
            "800:\tlearn: 0.8670151\ttest: 0.8341235\tbest: 0.8341235 (800)\ttotal: 14.6s\tremaining: 58.5s\n",
            "900:\tlearn: 0.8699008\ttest: 0.8345436\tbest: 0.8345577 (880)\ttotal: 16.4s\tremaining: 56.6s\n",
            "1000:\tlearn: 0.8730270\ttest: 0.8347343\tbest: 0.8347343 (1000)\ttotal: 18.3s\tremaining: 54.7s\n",
            "1100:\tlearn: 0.8760932\ttest: 0.8350965\tbest: 0.8351120 (1099)\ttotal: 20.1s\tremaining: 52.9s\n",
            "1200:\tlearn: 0.8792680\ttest: 0.8355375\tbest: 0.8355420 (1184)\ttotal: 21.9s\tremaining: 51.1s\n",
            "1300:\tlearn: 0.8824016\ttest: 0.8357599\tbest: 0.8357599 (1300)\ttotal: 23.8s\tremaining: 49.3s\n",
            "1400:\tlearn: 0.8853828\ttest: 0.8359680\tbest: 0.8359799 (1392)\ttotal: 25.6s\tremaining: 47.5s\n",
            "1500:\tlearn: 0.8882269\ttest: 0.8361239\tbest: 0.8361882 (1490)\ttotal: 27.5s\tremaining: 45.7s\n",
            "1600:\tlearn: 0.8911320\ttest: 0.8363278\tbest: 0.8363278 (1600)\ttotal: 29.3s\tremaining: 43.8s\n",
            "1700:\tlearn: 0.8939323\ttest: 0.8363724\tbest: 0.8363724 (1700)\ttotal: 31.1s\tremaining: 42s\n",
            "1800:\tlearn: 0.8966468\ttest: 0.8365187\tbest: 0.8365187 (1800)\ttotal: 32.9s\tremaining: 40.2s\n",
            "1900:\tlearn: 0.8992864\ttest: 0.8365026\tbest: 0.8366163 (1823)\ttotal: 34.7s\tremaining: 38.4s\n",
            "2000:\tlearn: 0.9017860\ttest: 0.8367251\tbest: 0.8367251 (2000)\ttotal: 36.6s\tremaining: 36.6s\n",
            "2100:\tlearn: 0.9043282\ttest: 0.8367521\tbest: 0.8368285 (2072)\ttotal: 38.4s\tremaining: 34.7s\n",
            "2200:\tlearn: 0.9067267\ttest: 0.8366581\tbest: 0.8368483 (2122)\ttotal: 40.2s\tremaining: 32.9s\n",
            "2300:\tlearn: 0.9090235\ttest: 0.8366103\tbest: 0.8368483 (2122)\ttotal: 42.1s\tremaining: 31s\n",
            "bestTest = 0.836848259\n",
            "bestIteration = 2122\n",
            "Shrink model to first 2123 iterations.\n",
            "Fold 3 : 0.8368484496009718\n",
            "0:\tlearn: 0.8087983\ttest: 0.8075351\tbest: 0.8075351 (0)\ttotal: 18.8ms\tremaining: 1m 15s\n",
            "100:\tlearn: 0.8364213\ttest: 0.8302736\tbest: 0.8302736 (100)\ttotal: 1.88s\tremaining: 1m 12s\n",
            "200:\tlearn: 0.8428487\ttest: 0.8346270\tbest: 0.8346270 (200)\ttotal: 3.73s\tremaining: 1m 10s\n",
            "300:\tlearn: 0.8480000\ttest: 0.8370204\tbest: 0.8370204 (300)\ttotal: 5.57s\tremaining: 1m 8s\n",
            "400:\tlearn: 0.8523188\ttest: 0.8384609\tbest: 0.8384609 (400)\ttotal: 7.39s\tremaining: 1m 6s\n",
            "500:\tlearn: 0.8561494\ttest: 0.8395927\tbest: 0.8395927 (500)\ttotal: 9.25s\tremaining: 1m 4s\n",
            "600:\tlearn: 0.8596100\ttest: 0.8404124\tbest: 0.8404124 (600)\ttotal: 11.1s\tremaining: 1m 2s\n",
            "700:\tlearn: 0.8629037\ttest: 0.8411248\tbest: 0.8411248 (700)\ttotal: 12.9s\tremaining: 1m\n",
            "800:\tlearn: 0.8661661\ttest: 0.8416204\tbest: 0.8416241 (799)\ttotal: 14.7s\tremaining: 58.7s\n",
            "900:\tlearn: 0.8691813\ttest: 0.8421001\tbest: 0.8421001 (900)\ttotal: 16.5s\tremaining: 56.9s\n",
            "1000:\tlearn: 0.8723221\ttest: 0.8423972\tbest: 0.8424180 (989)\ttotal: 18.4s\tremaining: 55s\n",
            "1100:\tlearn: 0.8753433\ttest: 0.8425334\tbest: 0.8425482 (1053)\ttotal: 20.2s\tremaining: 53.2s\n",
            "1200:\tlearn: 0.8784581\ttest: 0.8428071\tbest: 0.8428150 (1153)\ttotal: 22s\tremaining: 51.3s\n",
            "1300:\tlearn: 0.8816956\ttest: 0.8429606\tbest: 0.8429606 (1300)\ttotal: 23.8s\tremaining: 49.4s\n",
            "1400:\tlearn: 0.8845866\ttest: 0.8429918\tbest: 0.8430704 (1341)\ttotal: 25.6s\tremaining: 47.5s\n",
            "1500:\tlearn: 0.8874811\ttest: 0.8432916\tbest: 0.8432926 (1499)\ttotal: 27.4s\tremaining: 45.7s\n",
            "1600:\tlearn: 0.8903946\ttest: 0.8433835\tbest: 0.8434173 (1585)\ttotal: 29.2s\tremaining: 43.8s\n",
            "1700:\tlearn: 0.8930894\ttest: 0.8434749\tbest: 0.8435242 (1687)\ttotal: 31.1s\tremaining: 42s\n",
            "1800:\tlearn: 0.8957961\ttest: 0.8434989\tbest: 0.8435722 (1782)\ttotal: 32.9s\tremaining: 40.2s\n",
            "1900:\tlearn: 0.8984630\ttest: 0.8435182\tbest: 0.8436106 (1859)\ttotal: 34.7s\tremaining: 38.3s\n",
            "2000:\tlearn: 0.9009179\ttest: 0.8435182\tbest: 0.8436106 (1859)\ttotal: 36.6s\tremaining: 36.5s\n",
            "bestTest = 0.8436105549\n",
            "bestIteration = 1859\n",
            "Shrink model to first 1860 iterations.\n",
            "Fold 4 : 0.8436104843100822\n",
            "0:\tlearn: 0.8103416\ttest: 0.8116083\tbest: 0.8116083 (0)\ttotal: 20ms\tremaining: 1m 19s\n",
            "100:\tlearn: 0.8368371\ttest: 0.8297065\tbest: 0.8297065 (100)\ttotal: 1.86s\tremaining: 1m 11s\n",
            "200:\tlearn: 0.8434711\ttest: 0.8340290\tbest: 0.8340323 (199)\ttotal: 3.65s\tremaining: 1m 9s\n",
            "300:\tlearn: 0.8483671\ttest: 0.8365713\tbest: 0.8365713 (300)\ttotal: 5.46s\tremaining: 1m 7s\n",
            "400:\tlearn: 0.8525888\ttest: 0.8381149\tbest: 0.8381149 (400)\ttotal: 7.3s\tremaining: 1m 5s\n",
            "500:\tlearn: 0.8563029\ttest: 0.8392523\tbest: 0.8392523 (500)\ttotal: 9.11s\tremaining: 1m 3s\n",
            "600:\tlearn: 0.8599427\ttest: 0.8400201\tbest: 0.8400339 (598)\ttotal: 10.9s\tremaining: 1m 1s\n",
            "700:\tlearn: 0.8631935\ttest: 0.8407038\tbest: 0.8407139 (696)\ttotal: 12.7s\tremaining: 60s\n",
            "800:\tlearn: 0.8663478\ttest: 0.8410125\tbest: 0.8410232 (789)\ttotal: 14.6s\tremaining: 58.1s\n",
            "900:\tlearn: 0.8693034\ttest: 0.8412818\tbest: 0.8413029 (889)\ttotal: 16.4s\tremaining: 56.3s\n",
            "1000:\tlearn: 0.8722821\ttest: 0.8415542\tbest: 0.8415963 (995)\ttotal: 18.2s\tremaining: 54.5s\n",
            "1100:\tlearn: 0.8753398\ttest: 0.8417752\tbest: 0.8417778 (1099)\ttotal: 20s\tremaining: 52.7s\n",
            "1200:\tlearn: 0.8785248\ttest: 0.8417801\tbest: 0.8417909 (1197)\ttotal: 21.8s\tremaining: 50.8s\n",
            "1300:\tlearn: 0.8817243\ttest: 0.8420259\tbest: 0.8420259 (1300)\ttotal: 23.6s\tremaining: 49s\n",
            "1400:\tlearn: 0.8849440\ttest: 0.8421183\tbest: 0.8421660 (1356)\ttotal: 25.5s\tremaining: 47.2s\n",
            "1500:\tlearn: 0.8878289\ttest: 0.8423115\tbest: 0.8423115 (1500)\ttotal: 27.3s\tremaining: 45.4s\n",
            "1600:\tlearn: 0.8906625\ttest: 0.8424627\tbest: 0.8424739 (1599)\ttotal: 29.1s\tremaining: 43.6s\n",
            "1700:\tlearn: 0.8934990\ttest: 0.8426463\tbest: 0.8426463 (1700)\ttotal: 30.9s\tremaining: 41.8s\n",
            "1800:\tlearn: 0.8962049\ttest: 0.8425846\tbest: 0.8426463 (1700)\ttotal: 32.7s\tremaining: 40s\n",
            "1900:\tlearn: 0.8988949\ttest: 0.8425136\tbest: 0.8426463 (1700)\ttotal: 34.6s\tremaining: 38.2s\n",
            "bestTest = 0.8426463008\n",
            "bestIteration = 1700\n",
            "Shrink model to first 1701 iterations.\n",
            "Fold 5 : 0.8426462759722082\n",
            "0:\tlearn: 0.8119741\ttest: 0.7881454\tbest: 0.7881454 (0)\ttotal: 18.8ms\tremaining: 1m 15s\n",
            "100:\tlearn: 0.8388212\ttest: 0.8104858\tbest: 0.8104943 (99)\ttotal: 1.83s\tremaining: 1m 10s\n",
            "200:\tlearn: 0.8451283\ttest: 0.8135814\tbest: 0.8135814 (200)\ttotal: 3.65s\tremaining: 1m 8s\n",
            "300:\tlearn: 0.8501819\ttest: 0.8154983\tbest: 0.8154983 (300)\ttotal: 5.47s\tremaining: 1m 7s\n",
            "400:\tlearn: 0.8545929\ttest: 0.8167632\tbest: 0.8167632 (400)\ttotal: 7.3s\tremaining: 1m 5s\n",
            "500:\tlearn: 0.8584076\ttest: 0.8177261\tbest: 0.8177261 (500)\ttotal: 9.1s\tremaining: 1m 3s\n",
            "600:\tlearn: 0.8620820\ttest: 0.8182506\tbest: 0.8182506 (600)\ttotal: 10.9s\tremaining: 1m 1s\n",
            "700:\tlearn: 0.8652954\ttest: 0.8188676\tbest: 0.8188676 (700)\ttotal: 12.7s\tremaining: 59.9s\n",
            "800:\tlearn: 0.8685851\ttest: 0.8192508\tbest: 0.8192542 (799)\ttotal: 14.5s\tremaining: 58.1s\n",
            "900:\tlearn: 0.8716689\ttest: 0.8196718\tbest: 0.8196718 (900)\ttotal: 16.4s\tremaining: 56.3s\n",
            "1000:\tlearn: 0.8745637\ttest: 0.8198940\tbest: 0.8199013 (996)\ttotal: 18.2s\tremaining: 54.5s\n",
            "1100:\tlearn: 0.8776335\ttest: 0.8200379\tbest: 0.8200527 (1096)\ttotal: 20s\tremaining: 52.7s\n",
            "1200:\tlearn: 0.8808266\ttest: 0.8202912\tbest: 0.8203186 (1181)\ttotal: 21.8s\tremaining: 50.9s\n",
            "1300:\tlearn: 0.8838814\ttest: 0.8205482\tbest: 0.8205663 (1283)\ttotal: 23.6s\tremaining: 49s\n",
            "1400:\tlearn: 0.8869916\ttest: 0.8207520\tbest: 0.8207590 (1397)\ttotal: 25.5s\tremaining: 47.3s\n",
            "1500:\tlearn: 0.8898393\ttest: 0.8207033\tbest: 0.8207850 (1469)\ttotal: 27.3s\tremaining: 45.4s\n",
            "1600:\tlearn: 0.8926241\ttest: 0.8208546\tbest: 0.8208546 (1600)\ttotal: 29.1s\tremaining: 43.6s\n",
            "1700:\tlearn: 0.8954546\ttest: 0.8208945\tbest: 0.8209419 (1674)\ttotal: 30.9s\tremaining: 41.8s\n",
            "1800:\tlearn: 0.8981795\ttest: 0.8208269\tbest: 0.8209900 (1733)\ttotal: 32.8s\tremaining: 40s\n",
            "1900:\tlearn: 0.9007841\ttest: 0.8207949\tbest: 0.8209900 (1733)\ttotal: 34.6s\tremaining: 38.2s\n",
            "bestTest = 0.820990026\n",
            "bestIteration = 1733\n",
            "Shrink model to first 1734 iterations.\n",
            "Fold 6 : 0.8209903572187085\n",
            "0:\tlearn: 0.8096432\ttest: 0.8033534\tbest: 0.8033534 (0)\ttotal: 19ms\tremaining: 1m 15s\n",
            "100:\tlearn: 0.8362105\ttest: 0.8267512\tbest: 0.8267512 (100)\ttotal: 1.86s\tremaining: 1m 12s\n",
            "200:\tlearn: 0.8428515\ttest: 0.8320878\tbest: 0.8320878 (200)\ttotal: 3.69s\tremaining: 1m 9s\n",
            "300:\tlearn: 0.8477586\ttest: 0.8350469\tbest: 0.8350469 (300)\ttotal: 5.49s\tremaining: 1m 7s\n",
            "400:\tlearn: 0.8520778\ttest: 0.8370718\tbest: 0.8370718 (400)\ttotal: 7.3s\tremaining: 1m 5s\n",
            "500:\tlearn: 0.8558223\ttest: 0.8383193\tbest: 0.8383193 (500)\ttotal: 9.14s\tremaining: 1m 3s\n",
            "600:\tlearn: 0.8593207\ttest: 0.8393815\tbest: 0.8393815 (600)\ttotal: 11s\tremaining: 1m 2s\n",
            "700:\tlearn: 0.8625850\ttest: 0.8399587\tbest: 0.8399587 (700)\ttotal: 12.8s\tremaining: 1m\n",
            "800:\tlearn: 0.8656753\ttest: 0.8405915\tbest: 0.8405929 (799)\ttotal: 14.6s\tremaining: 58.4s\n",
            "900:\tlearn: 0.8686697\ttest: 0.8409753\tbest: 0.8409772 (899)\ttotal: 16.4s\tremaining: 56.6s\n",
            "1000:\tlearn: 0.8715069\ttest: 0.8412282\tbest: 0.8412355 (997)\ttotal: 18.3s\tremaining: 54.8s\n",
            "1100:\tlearn: 0.8745399\ttest: 0.8416761\tbest: 0.8416761 (1100)\ttotal: 20.2s\tremaining: 53.1s\n",
            "1200:\tlearn: 0.8777719\ttest: 0.8420100\tbest: 0.8420100 (1200)\ttotal: 22s\tremaining: 51.2s\n",
            "1300:\tlearn: 0.8809199\ttest: 0.8421574\tbest: 0.8421893 (1266)\ttotal: 23.8s\tremaining: 49.4s\n",
            "1400:\tlearn: 0.8839031\ttest: 0.8424780\tbest: 0.8424813 (1397)\ttotal: 25.6s\tremaining: 47.5s\n",
            "1500:\tlearn: 0.8867688\ttest: 0.8426630\tbest: 0.8426630 (1500)\ttotal: 27.4s\tremaining: 45.6s\n",
            "1600:\tlearn: 0.8898066\ttest: 0.8428075\tbest: 0.8428075 (1600)\ttotal: 29.2s\tremaining: 43.7s\n",
            "1700:\tlearn: 0.8926461\ttest: 0.8429969\tbest: 0.8430266 (1693)\ttotal: 31s\tremaining: 41.9s\n",
            "1800:\tlearn: 0.8953522\ttest: 0.8431478\tbest: 0.8431602 (1787)\ttotal: 32.8s\tremaining: 40.1s\n",
            "1900:\tlearn: 0.8979736\ttest: 0.8431236\tbest: 0.8431665 (1804)\ttotal: 34.6s\tremaining: 38.2s\n",
            "2000:\tlearn: 0.9004409\ttest: 0.8431081\tbest: 0.8431665 (1804)\ttotal: 36.4s\tremaining: 36.4s\n",
            "bestTest = 0.8431665301\n",
            "bestIteration = 1804\n",
            "Shrink model to first 1805 iterations.\n",
            "Fold 7 : 0.843166547602958\n",
            "0:\tlearn: 0.8077008\ttest: 0.8269114\tbest: 0.8269114 (0)\ttotal: 18.8ms\tremaining: 1m 15s\n",
            "100:\tlearn: 0.8354859\ttest: 0.8485500\tbest: 0.8485500 (100)\ttotal: 1.85s\tremaining: 1m 11s\n",
            "200:\tlearn: 0.8421281\ttest: 0.8519296\tbest: 0.8519296 (200)\ttotal: 3.68s\tremaining: 1m 9s\n",
            "300:\tlearn: 0.8471239\ttest: 0.8532950\tbest: 0.8533137 (299)\ttotal: 5.49s\tremaining: 1m 7s\n",
            "400:\tlearn: 0.8512935\ttest: 0.8541736\tbest: 0.8541736 (400)\ttotal: 7.31s\tremaining: 1m 5s\n",
            "500:\tlearn: 0.8550664\ttest: 0.8550432\tbest: 0.8550463 (499)\ttotal: 9.13s\tremaining: 1m 3s\n",
            "600:\tlearn: 0.8587461\ttest: 0.8556007\tbest: 0.8556084 (599)\ttotal: 10.9s\tremaining: 1m 1s\n",
            "700:\tlearn: 0.8621070\ttest: 0.8561032\tbest: 0.8561463 (697)\ttotal: 12.8s\tremaining: 1m\n",
            "800:\tlearn: 0.8652699\ttest: 0.8564187\tbest: 0.8564376 (794)\ttotal: 14.5s\tremaining: 58.1s\n",
            "900:\tlearn: 0.8682559\ttest: 0.8566135\tbest: 0.8566359 (892)\ttotal: 16.4s\tremaining: 56.3s\n",
            "1000:\tlearn: 0.8711581\ttest: 0.8568459\tbest: 0.8568579 (993)\ttotal: 18.2s\tremaining: 54.4s\n",
            "1100:\tlearn: 0.8742386\ttest: 0.8569070\tbest: 0.8569484 (1033)\ttotal: 20s\tremaining: 52.6s\n",
            "1200:\tlearn: 0.8774111\ttest: 0.8569496\tbest: 0.8570015 (1181)\ttotal: 21.8s\tremaining: 50.8s\n",
            "1300:\tlearn: 0.8805733\ttest: 0.8569322\tbest: 0.8570015 (1181)\ttotal: 23.6s\tremaining: 49s\n",
            "1400:\tlearn: 0.8836480\ttest: 0.8570003\tbest: 0.8570318 (1376)\ttotal: 25.4s\tremaining: 47.2s\n",
            "1500:\tlearn: 0.8865301\ttest: 0.8570187\tbest: 0.8570530 (1488)\ttotal: 27.3s\tremaining: 45.4s\n",
            "1600:\tlearn: 0.8894745\ttest: 0.8569093\tbest: 0.8570530 (1488)\ttotal: 29.1s\tremaining: 43.7s\n",
            "bestTest = 0.8570530415\n",
            "bestIteration = 1488\n",
            "Shrink model to first 1489 iterations.\n",
            "Fold 8 : 0.8570528698031449\n",
            "0:\tlearn: 0.8089980\ttest: 0.8053759\tbest: 0.8053759 (0)\ttotal: 19.1ms\tremaining: 1m 16s\n",
            "100:\tlearn: 0.8361287\ttest: 0.8311508\tbest: 0.8311508 (100)\ttotal: 1.88s\tremaining: 1m 12s\n",
            "200:\tlearn: 0.8428086\ttest: 0.8359205\tbest: 0.8359205 (200)\ttotal: 3.73s\tremaining: 1m 10s\n",
            "300:\tlearn: 0.8479730\ttest: 0.8383544\tbest: 0.8383544 (300)\ttotal: 5.6s\tremaining: 1m 8s\n",
            "400:\tlearn: 0.8522384\ttest: 0.8399966\tbest: 0.8399966 (400)\ttotal: 7.43s\tremaining: 1m 6s\n",
            "500:\tlearn: 0.8560930\ttest: 0.8414353\tbest: 0.8414373 (499)\ttotal: 9.23s\tremaining: 1m 4s\n",
            "600:\tlearn: 0.8597478\ttest: 0.8424248\tbest: 0.8424248 (600)\ttotal: 11s\tremaining: 1m 2s\n",
            "700:\tlearn: 0.8628963\ttest: 0.8431435\tbest: 0.8431614 (698)\ttotal: 12.9s\tremaining: 1m\n",
            "800:\tlearn: 0.8661187\ttest: 0.8440152\tbest: 0.8440157 (799)\ttotal: 14.7s\tremaining: 58.7s\n",
            "900:\tlearn: 0.8691350\ttest: 0.8445534\tbest: 0.8445634 (898)\ttotal: 16.5s\tremaining: 56.8s\n",
            "1000:\tlearn: 0.8719361\ttest: 0.8450484\tbest: 0.8450484 (1000)\ttotal: 18.3s\tremaining: 54.9s\n",
            "1100:\tlearn: 0.8749582\ttest: 0.8455012\tbest: 0.8455052 (1094)\ttotal: 20.2s\tremaining: 53.1s\n",
            "1200:\tlearn: 0.8781596\ttest: 0.8458839\tbest: 0.8458839 (1200)\ttotal: 22s\tremaining: 51.3s\n",
            "1300:\tlearn: 0.8811893\ttest: 0.8461640\tbest: 0.8461640 (1300)\ttotal: 23.9s\tremaining: 49.5s\n",
            "1400:\tlearn: 0.8842224\ttest: 0.8464900\tbest: 0.8465021 (1393)\ttotal: 25.7s\tremaining: 47.6s\n",
            "1500:\tlearn: 0.8870624\ttest: 0.8467405\tbest: 0.8467559 (1496)\ttotal: 27.5s\tremaining: 45.8s\n",
            "1600:\tlearn: 0.8900780\ttest: 0.8469643\tbest: 0.8469732 (1596)\ttotal: 29.3s\tremaining: 43.9s\n",
            "1700:\tlearn: 0.8929093\ttest: 0.8470641\tbest: 0.8470774 (1690)\ttotal: 31.1s\tremaining: 42.1s\n",
            "1800:\tlearn: 0.8955959\ttest: 0.8472569\tbest: 0.8472770 (1771)\ttotal: 33s\tremaining: 40.3s\n",
            "1900:\tlearn: 0.8980984\ttest: 0.8473396\tbest: 0.8474113 (1855)\ttotal: 34.8s\tremaining: 38.4s\n",
            "2000:\tlearn: 0.9007314\ttest: 0.8475837\tbest: 0.8475837 (2000)\ttotal: 36.6s\tremaining: 36.6s\n",
            "2100:\tlearn: 0.9033276\ttest: 0.8476418\tbest: 0.8476714 (2040)\ttotal: 38.4s\tremaining: 34.7s\n",
            "2200:\tlearn: 0.9057240\ttest: 0.8476985\tbest: 0.8477445 (2179)\ttotal: 40.3s\tremaining: 32.9s\n",
            "2300:\tlearn: 0.9080431\ttest: 0.8478676\tbest: 0.8478676 (2300)\ttotal: 42.1s\tremaining: 31.1s\n",
            "2400:\tlearn: 0.9104772\ttest: 0.8479211\tbest: 0.8479228 (2399)\ttotal: 43.9s\tremaining: 29.2s\n",
            "2500:\tlearn: 0.9127457\ttest: 0.8479224\tbest: 0.8479846 (2473)\ttotal: 45.7s\tremaining: 27.4s\n",
            "2600:\tlearn: 0.9149519\ttest: 0.8478320\tbest: 0.8479846 (2473)\ttotal: 47.6s\tremaining: 25.6s\n",
            "bestTest = 0.8479845822\n",
            "bestIteration = 2473\n",
            "Shrink model to first 2474 iterations.\n",
            "Fold 9 : 0.8479846628474338\n",
            "\n",
            "\n",
            "Avg log :  0.8416355526329471\n"
          ],
          "name": "stdout"
        }
      ]
    },
    {
      "cell_type": "code",
      "metadata": {
        "id": "1owU9eQRhLel"
      },
      "source": [
        "oof_prediction = pd.DataFrame(test_oofs).T"
      ],
      "execution_count": null,
      "outputs": []
    },
    {
      "cell_type": "code",
      "metadata": {
        "id": "bZZ-5xePmbHg"
      },
      "source": [
        "oof_prediction.columns = ['fold_'+ str(i) for i in range(1, n_skf + 1)]"
      ],
      "execution_count": null,
      "outputs": []
    },
    {
      "cell_type": "code",
      "metadata": {
        "id": "Iz_ugOFXmehd",
        "colab": {
          "base_uri": "https://localhost:8080/",
          "height": 204
        },
        "outputId": "ae6798d4-2f4a-459e-d563-3d50b1f9f7d4"
      },
      "source": [
        "oof_prediction.head()"
      ],
      "execution_count": null,
      "outputs": [
        {
          "output_type": "execute_result",
          "data": {
            "text/html": [
              "<div>\n",
              "<style scoped>\n",
              "    .dataframe tbody tr th:only-of-type {\n",
              "        vertical-align: middle;\n",
              "    }\n",
              "\n",
              "    .dataframe tbody tr th {\n",
              "        vertical-align: top;\n",
              "    }\n",
              "\n",
              "    .dataframe thead th {\n",
              "        text-align: right;\n",
              "    }\n",
              "</style>\n",
              "<table border=\"1\" class=\"dataframe\">\n",
              "  <thead>\n",
              "    <tr style=\"text-align: right;\">\n",
              "      <th></th>\n",
              "      <th>fold_1</th>\n",
              "      <th>fold_2</th>\n",
              "      <th>fold_3</th>\n",
              "      <th>fold_4</th>\n",
              "      <th>fold_5</th>\n",
              "      <th>fold_6</th>\n",
              "      <th>fold_7</th>\n",
              "      <th>fold_8</th>\n",
              "      <th>fold_9</th>\n",
              "      <th>fold_10</th>\n",
              "    </tr>\n",
              "  </thead>\n",
              "  <tbody>\n",
              "    <tr>\n",
              "      <th>0</th>\n",
              "      <td>0.299736</td>\n",
              "      <td>0.288646</td>\n",
              "      <td>0.326799</td>\n",
              "      <td>0.323203</td>\n",
              "      <td>0.304760</td>\n",
              "      <td>0.357184</td>\n",
              "      <td>0.315901</td>\n",
              "      <td>0.319597</td>\n",
              "      <td>0.309746</td>\n",
              "      <td>0.304298</td>\n",
              "    </tr>\n",
              "    <tr>\n",
              "      <th>1</th>\n",
              "      <td>0.417604</td>\n",
              "      <td>0.388070</td>\n",
              "      <td>0.352239</td>\n",
              "      <td>0.389679</td>\n",
              "      <td>0.469140</td>\n",
              "      <td>0.402850</td>\n",
              "      <td>0.413806</td>\n",
              "      <td>0.351022</td>\n",
              "      <td>0.419880</td>\n",
              "      <td>0.356859</td>\n",
              "    </tr>\n",
              "    <tr>\n",
              "      <th>2</th>\n",
              "      <td>0.345610</td>\n",
              "      <td>0.403495</td>\n",
              "      <td>0.418566</td>\n",
              "      <td>0.404455</td>\n",
              "      <td>0.406721</td>\n",
              "      <td>0.415533</td>\n",
              "      <td>0.400497</td>\n",
              "      <td>0.383108</td>\n",
              "      <td>0.343498</td>\n",
              "      <td>0.384847</td>\n",
              "    </tr>\n",
              "    <tr>\n",
              "      <th>3</th>\n",
              "      <td>0.721626</td>\n",
              "      <td>0.772540</td>\n",
              "      <td>0.782533</td>\n",
              "      <td>0.762032</td>\n",
              "      <td>0.756489</td>\n",
              "      <td>0.779461</td>\n",
              "      <td>0.787822</td>\n",
              "      <td>0.754869</td>\n",
              "      <td>0.746729</td>\n",
              "      <td>0.755214</td>\n",
              "    </tr>\n",
              "    <tr>\n",
              "      <th>4</th>\n",
              "      <td>0.139619</td>\n",
              "      <td>0.130798</td>\n",
              "      <td>0.157060</td>\n",
              "      <td>0.139168</td>\n",
              "      <td>0.169071</td>\n",
              "      <td>0.179541</td>\n",
              "      <td>0.155792</td>\n",
              "      <td>0.148486</td>\n",
              "      <td>0.187570</td>\n",
              "      <td>0.142759</td>\n",
              "    </tr>\n",
              "  </tbody>\n",
              "</table>\n",
              "</div>"
            ],
            "text/plain": [
              "     fold_1    fold_2    fold_3  ...    fold_8    fold_9   fold_10\n",
              "0  0.299736  0.288646  0.326799  ...  0.319597  0.309746  0.304298\n",
              "1  0.417604  0.388070  0.352239  ...  0.351022  0.419880  0.356859\n",
              "2  0.345610  0.403495  0.418566  ...  0.383108  0.343498  0.384847\n",
              "3  0.721626  0.772540  0.782533  ...  0.754869  0.746729  0.755214\n",
              "4  0.139619  0.130798  0.157060  ...  0.148486  0.187570  0.142759\n",
              "\n",
              "[5 rows x 10 columns]"
            ]
          },
          "metadata": {
            "tags": []
          },
          "execution_count": 30
        }
      ]
    },
    {
      "cell_type": "code",
      "metadata": {
        "id": "GwBTg6vSmhxe"
      },
      "source": [
        "sub['default_status'] = np.mean(test_oofs, axis = 0) "
      ],
      "execution_count": null,
      "outputs": []
    },
    {
      "cell_type": "code",
      "metadata": {
        "id": "ZMXxkjVRmzPL"
      },
      "source": [
        "sub.to_csv(\"drive/My Drive/DSN Hackathon/officialsubmit.csv\", index = False)"
      ],
      "execution_count": null,
      "outputs": []
    },
    {
      "cell_type": "code",
      "metadata": {
        "id": "6pVuB-gfYkZK"
      },
      "source": [
        ""
      ],
      "execution_count": null,
      "outputs": []
    }
  ]
}